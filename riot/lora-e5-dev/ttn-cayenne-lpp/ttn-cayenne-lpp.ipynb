{
 "cells": [
  {
   "cell_type": "markdown",
   "metadata": {},
   "source": [
    "## Publish LoRaWAN payloads to a myDevices Cayenne web dashboard\n",
    "\n",
    "### Introduction\n",
    "\n",
    "In the [LoRaWAN getting-started Notebook](../getting-started/lorawan-getting-started.ipynb), we learnt how to use LoRa boards available on IoT-LAB with [TheThingsNetwork LoRaWAN provider](https://www.thethingsnetwork.org/) (TTN). In addition to send/receive messages to/from the TTN backend, it is also possible to configure [integrations](https://www.thethingsnetwork.org/docs/applications/integrations.html) to a LoRaWAN network. One of these integrations is using webhooks, which allows to retrieve and display sensors data in customizable dashboards. This is what is used by a Cayenne application to interact with the TTNv3 LoRaWAN backend.\n",
    "\n",
    "- The first step of this Notebook is to configure the integration between a TTN application and myDevices Cayenne. This is explained in the next section.\n",
    "- The second step will be to implement the RIOT application. This is explained in the \"Write your RIOT application\" section.\n",
    "- The last step will guide you in the submission of an IoT-LAB experiment with one LoRa device\n",
    "\n",
    "### Configure the integration between a TTN application and myDevices Cayenne\n",
    "\n",
    "If you followed the **[LoRaWAN getting-started Notebook](../getting-started/lorawan-getting-started.ipynb)**, the only thing that you have to do is to configure the integration of your TTN application with myDevices Cayenne: this is simple, just follow **[this documentation](https://www.thethingsindustries.com/docs/integrations/cloud-integrations/cayenne/)**.\n",
    "\n",
    "### Write your RIOT application\n",
    "\n",
    "myDevices Cayenne requires the devices to encode the messages in a specific payload format called **[Cayenne LPP](https://developers.mydevices.com/cayenne/docs/lora/#lora-cayenne-low-power-payload)**. This format is a binary format designed to reduce the payload size (remember that LoRaWAN has a very low datarate) while remaining quite flexible: the format encodes several channels that contain different kind of sendor data types (temperature, relative humidity, etc).\n",
    "\n",
    "In the same directory as this notebook, you will find the 2 files of a basic RIOT application: `Makefile`, `main.c`. This application already contains code to read sensors, join a LoRaWAN and send a basic payload every 20s.\n",
    "\n",
    "You can double click the files in the JupyterLab browser to open them in new tabs and start editing them.\n",
    "\n",
    "As you can see, the application is already quite complete but the DEVEUI/APPEUI/APPKEY are empty (full of zeros) and the encoding to the Cayenne LPP format is missing in `main.c`. Fortunately, RIOT provides support for [a library for encoding to the Cayenne LPP](https://github.com/aabadie/cayenne-lpp). This is what will be used in this Notebook.\n",
    "\n",
    "1. Change the DEVEUI, APPEUI, APPKEY default values (see C static arrays lines 28 to 30 in main.c). These values are available in your TTN device management page.\n",
    "\n",
    "  **Note**: in the TTN device management page, you can switch the DEVEUI/APPEUI/APPKEY values from a plain hexadecimal string representation to a C array representation by clicking the `<>` button. Keep the _msb_ representation.\n",
    "  \n",
    "  **Important**: if you don't edit the deveui/appeui/appkey values, you device won't be able to join the network and send messages.\n",
    "\n",
    "2. Add the missing Cayenne LPP header (under `/* TODO: Add the cayenne_lpp header */`):\n",
    "\n",
    "```c\n",
    "#include \"cayenne_lpp.h\"\n",
    "```\n",
    "\n",
    "3. Declare globally Cayenne LPP descriptor:\n",
    "\n",
    "```c\n",
    "static cayenne_lpp_t lpp;\n",
    "```\n",
    "\n",
    "4. In the sender function, prepare the cayenne lpp payload with the temperature measured value:\n",
    "\n",
    "```c\n",
    "cayenne_lpp_add_temperature(&lpp, 0, (float)temperature / 1000);\n",
    "```\n",
    "\n",
    "5. You have to replace the send of the dummy payload with the send of the cayenne lpp payload, e.g:\n",
    "\n",
    "```\n",
    "uint8_t ret = semtech_loramac_send(&loramac, lpp.buffer, lpp.cursor);\n",
    "```\n",
    "\n",
    "instead of\n",
    "\n",
    "```\n",
    "uint8_t ret = semtech_loramac_send(&loramac, (uint8_t *)message, strlen(message));\n",
    "```\n",
    "\n",
    "6. At the end of the while loop, you have to clear the cayenne lpp payload buffer between each send:\n",
    "\n",
    "```c\n",
    "cayenne_lpp_reset(&lpp);\n",
    "```\n",
    "\n",
    "7. You can now build the application:\n"
   ]
  },
  {
   "cell_type": "code",
   "execution_count": null,
   "metadata": {},
   "outputs": [],
   "source": [
    "make -C riot/lora-e5-dev/ttn-cayenne-lpp flash term"
   ]
  },
  {
   "cell_type": "markdown",
   "metadata": {},
   "source": [
    "In the terminal, you should see you device join the network with success and start sending payload to TTN.\n",
    "\n",
    "In your TTN console, look at the messages sent by the device and in myDevices Cayenne, the dashboard starts populating with new sensors values!\n",
    "\n",
    "### Going further\n",
    "\n",
    "Modify the RIOT application to add the `bme680` atmospheric pressure sensor values to the Cayenne LPP payload:\n",
    "- You can have a look at the [online documentation of the driver](https://doc.riot-os.org/group__drivers__bme680.html)\n",
    "- You can have a look at the [test application code](https://github.com/RIOT-OS/RIOT/tree/master/tests/driver_bme680) which provides driver API usage"
   ]
  }
 ],
 "metadata": {
  "kernelspec": {
   "display_name": "Python 3",
   "language": "python",
   "name": "python3"
  },
  "language_info": {
   "codemirror_mode": {
    "name": "ipython",
    "version": 3
   },
   "file_extension": ".py",
   "mimetype": "text/x-python",
   "name": "python",
   "nbconvert_exporter": "python",
   "pygments_lexer": "ipython3",
   "version": "3.8.6"
  }
 },
 "nbformat": 4,
 "nbformat_minor": 4
}
