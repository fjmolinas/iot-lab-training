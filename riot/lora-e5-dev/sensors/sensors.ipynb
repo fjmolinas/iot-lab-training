{
 "cells": [
  {
   "cell_type": "markdown",
   "metadata": {},
   "source": [
    "## Use sensors on the LoRa-E5-Dev\n",
    "\n",
    "The LoRa-E5-Dev board provides several an:\n",
    "- lm75a: a temperature sensor\n",
    "\n",
    "And multiple pins to connect other sensors, e.g. grove sensors like:\n",
    "- [Grove - IMU 10DOF](https://wiki.seeedstudio.com/Grove-IMU_10DOF_v2.0): integrating\n",
    "a high performance 9-axis motion tracking module (`mpu9250`) and a barometer sensor (`bmp280`).\n",
    "\n",
    "and many others like: ccs811, adxl6d3, bme680. See [Sensor Device Drivers](https://doc.riot-os.org/group__drivers__sensors.html)\n",
    "for a complete list of sensors supported in RIOT.\n",
    "\n",
    "In this exercise, we propose to read and display the values of the integrated lm75a\n",
    "and an mpu9250 groove sensor. This will be implemented with shell commands and\n",
    "synchronization between threads.\n",
    "\n",
    "- The lm75a temperature value will read on demand via a single shell command, `lm75`\n",
    "- The mpu9250 accelerometer values will be read continuously every 500ms after calling `mpu start`.\n",
    "The continuous read will be stopped by calling `mpu stop`\n",
    "\n",
    "Extending or replacing one of this sensors should be farley easy, by looking\n",
    "at the drivers documentation and the examples under [tests/drivers](https://github.com/RIOT-OS/RIOT/tree/master/tests)\n"
   ]
  },
  {
   "cell_type": "markdown",
   "metadata": {},
   "source": [
    "### Read the lm75a sensor using a shell command\n",
    "\n",
    "To read the lm75a sensor, we will use the lm75a module driver.\n",
    "\n",
    "1. In the application [Makefile](Makefile), add the lm75a module to the build:\n",
    "\n",
    "```Makefile\n",
    "USEMODULE += lm75a\n",
    "```\n",
    "\n",
    "2. In the [main.c](main.c), add the necessary includes for this driver:\n",
    "\n",
    "```c\n",
    "#include \"lm75.h\"\n",
    "#include \"lm75_params.h\"\n",
    "```\n",
    "\n",
    "**Note:** The files, device descriptor type and function names start with `lm75xxx` because this driver is generic and also works with the lm7525hb and lm7522hb variants.\n",
    "\n",
    "3. Declare the device descriptor variable:\n",
    "\n",
    "```c\n",
    "static lm75_t lm75;\n",
    "```\n",
    "\n",
    "4. In the main function, initialize the driver:\n",
    "\n",
    "```c\n",
    "    lm75_init(&lm75, &lm75_params[0]);\n",
    "```\n",
    "\n",
    "5. Implement the `lm75_handler` function. This function will be called when the shell command uses `lm75` as first argument:\n",
    "\n",
    "```c\n",
    "    if (!strcmp(argv[1], \"temperature\")) {\n",
    "        int temp = 0;\n",
    "        lm75_get_temperature(&lm75, &temp);\n",
    "        printf(\"Temperature: %d.%dºC\\n\", temp / 1000, temp % 1000);\n",
    "    }\n",
    "    else {\n",
    "        _lm75_usage(argv[0]);\n",
    "        return -1;\n",
    "    }\n",
    "```\n",
    "\n",
    "6. Add the `lm75` shell command in the list of available commands (in the `shell_command_t` list before the main function):\n",
    "\n",
    "```c\n",
    "    { \"lm75\", \"read the lm75 values\", lm75_handler },\n",
    "```\n",
    "\n",
    "7. Build and flash the application:"
   ]
  },
  {
   "cell_type": "code",
   "execution_count": null,
   "metadata": {},
   "outputs": [],
   "source": [
    "make flash"
   ]
  },
  {
   "cell_type": "markdown",
   "metadata": {},
   "source": [
    "8. Open a terminal  and connect to the serial port of the LoRa-E5-Dev and observe the value displayed every 2 seconds:"
   ]
  },
  {
   "cell_type": "raw",
   "metadata": {},
   "source": [
    "make -C riot/lora-e5-dev/sensors term"
   ]
  },
  {
   "cell_type": "markdown",
   "metadata": {},
   "source": [
    "9. In the RIOT shell, verify that the `lm75` command is working as expected:"
   ]
  },
  {
   "cell_type": "raw",
   "metadata": {},
   "source": [
    "> lm75\n",
    "lm75\n",
    "usage: lm75 <temparature>\n",
    "> lm75 temperature\n",
    "lm75 temperature\n",
    "Temperature: 37.02°C"
   ]
  },
  {
   "cell_type": "markdown",
   "metadata": {},
   "source": [
    "You can keep this terminal open while performing the next steps of this notebook.\n",
    "\n",
    "### Read the mpu9x50 sensor\n",
    "\n",
    "To read the mpu9x50 sensor in a loop and to start/stop this continuos read from a shell command, we will use 2 things:\n",
    "- the continuous read will be done in a separate thread `mpu9x50_thread`,\n",
    "- the start/stop feature will use one of the synchronization mechanisms available in RIOT: a mutex. The idea is make the\n",
    "mpu9x50 thread try to acquire the mutex before reading the values. If the mutex is already acquired by the main thread,\n",
    "the mpu9x50 thread will be blocked, trying to acquire it. So the start subcommand of the `mpu` shell will just release the\n",
    "mutex to let the mpu9x50 thread read the values. After each read, the mpu9x50 thread will release the mutex. The stop\n",
    "subcommand of the `mpu` shell will just acquire the mutex again to clock the mpu9x50 thread.\n",
    "\n",
    "To read the mpu9x50 sensor, use the mpu9x50 module driver. In this part of the exercise, the driver is read from a separate background thread.\n",
    "\n",
    "1. In the application [Makefile](Makefile), add the mpu9x50 module to the build:\n",
    "\n",
    "```Makefile\n",
    "USEMODULE += mpu9250\n",
    "```\n",
    "\n",
    "2. In the [main.c](main.c), add the necessary includes for this driver:\n",
    "\n",
    "```c\n",
    "#include \"mpu9x50.h\"\n",
    "#include \"mpu9x50_params.h\"\n",
    "```\n",
    "\n",
    "3. Declare the device descriptor variable:\n",
    "\n",
    "```c\n",
    "static mpu9x50_t mpu9x50;\n",
    "```\n",
    "\n",
    "4. Declare the mutex used to lock/unlock the mpu9x50 thread. The mutex is initialized locked in order to block the mpu9x50 thread at startup.\n",
    "\n",
    "```c\n",
    "static mutex_t mpu_lock = MUTEX_INIT_LOCKED;\n",
    "```\n",
    "\n",
    "5. In the main function, initialize the driver and set the sample rate:\n",
    "\n",
    "```c\n",
    "    mpu9x50_init(&mpu9x50, &mpu9x50_params[0]);\n",
    "```\n",
    "\n",
    "6. In the mpu9x50 thread function, acquire the mutex. This call blocks the thread until the mutex is released by another thread:\n",
    "\n",
    "```c\n",
    "        mutex_lock(&mpu_lock);\n",
    "```\n",
    "\n",
    "7. In the mpu9x50 thread function, after the mutex is acquired, the accelerometer/magnetometer values can be read:\n",
    "\n",
    "```c\n",
    "        mpu9x50_results_t acc_value;\n",
    "        mpu9x50_read_accel(&mpu9x50, &acc_value);\n",
    "        printf(\"Accelerometer x: %i y: %i z: %i\\n\", acc_value.x_axis,\n",
    "               acc_value.y_axis, acc_value.z_axis);\n",
    "```\n",
    "\n",
    "8. Once the values are read, the mutex must be released:\n",
    "\n",
    "```c\n",
    "        mutex_unlock(&mpu_lock);\n",
    "```\n",
    "\n",
    "9. Finally we can implement the `start`/`stop` subcommands of the `mpu` shell command `mpu9x50_handler` handler:\n",
    "\n",
    "```c\n",
    "    if (!strcmp(argv[1], \"start\")) {\n",
    "        mutex_unlock(&mpu_lock);\n",
    "    }\n",
    "    else if (!strcmp(argv[1], \"stop\")) {\n",
    "        mutex_trylock(&mpu_lock);\n",
    "    }\n",
    "    else {\n",
    "        _mpu9x50_usage(argv[0]);\n",
    "        return -1;\n",
    "    }\n",
    "```\n",
    "   The `stop` subcommand calls the `mutex_trylock` instead of `mutex_lock` to avoid having the shell blocked when `mpu stop` is called several times in row.\n",
    "\n",
    "10. Let's build and flash again the application:"
   ]
  },
  {
   "cell_type": "code",
   "execution_count": null,
   "metadata": {},
   "outputs": [],
   "source": [
    "make flash"
   ]
  },
  {
   "cell_type": "markdown",
   "metadata": {},
   "source": [
    "11. If you kept the previous serial output opened in the terminal, you can test the new `mpu` with the `start` and `stop` subcommands"
   ]
  },
  {
   "cell_type": "raw",
   "metadata": {},
   "source": [
    "> mpu\n",
    "mpu\n",
    "usage: mpu <start|stop>\n",
    "> mpu start\n",
    "> mpu start\n",
    "mpu start\n",
    "Accelerometer x: 676 y: 160 z: -228\n",
    "Accelerometer x: 680 y: 156 z: -236\n",
    "Accelerometer x: 676 y: 156 z: -240\n",
    "Accelerometer x: 672 y: 160 z: -232\n",
    "Accelerometer x: 664 y: 152 z: -236\n",
    "Accelerometer x: 676 y: 160 z: -236\n",
    "Accelerometer x: 676 y: 156 z: -236\n",
    "Accelerometer x: 680 y: 152 z: -236\n",
    "mpu stop\n",
    "> "
   ]
  },
  {
   "cell_type": "markdown",
   "metadata": {},
   "source": [
    "### Read other sensors\n",
    "\n",
    "As said at the beginning of this Notebook, other groove sensors can be added to extend this exercise.\n",
    "\n",
    "In this section, we propose that you extend the application by reading data from the\n",
    "`bmp280` in the Grove - IMU 10DOF v2.0, as well as extending the `mpu` command to read the\n",
    "gyroscope values.\n",
    "\n",
    "The synopsis of the extended commands is the following:\n",
    "- `mpu` should now also print the compass and gyroscope data\n",
    "- `bmp` should allow reading the temperature or pressure values and print one or the other"
   ]
  },
  {
   "cell_type": "raw",
   "metadata": {},
   "source": [
    "> bmp\n",
    "bmp\n",
    "usage: bmp <temparature|pressure>\n",
    "> bmp temperature\n",
    "bmp temperature\n",
    "Temperature: 37.02°C\n",
    "> bmp pressure\n",
    "bmp pressure\n",
    "Pressure: 998hPa"
   ]
  },
  {
   "cell_type": "markdown",
   "metadata": {},
   "source": [
    "_Note_: the `bmp280`, `lm75a` and `mpu9x250` include a temperature sensor, can you read\n",
    "all of them? How much do they differ?"
   ]
  },
  {
   "cell_type": "markdown",
   "metadata": {},
   "source": [
    "To help you with the APIs usage of the corresponding drivers, you can have a look at the following resources:\n",
    "- [bmx280 API online documentation](https://doc.riot-os.org/group__drivers__bmx280.html)\n",
    "- The [bmx280 test application code](https://github.com/RIOT-OS/RIOT/tree/master/tests/driver_bmx280) can also be useful\n",
    "- [mpu9x50 API online documentation](https://doc.riot-os.org/group__drivers__mpu9x50.html)\n",
    "- The [mpu9x20 test application code](https://github.com/RIOT-OS/RIOT/tree/master/tests/driver_mpu9x50) can also be useful\n",
    "\n",
    "Also, don't forget to add the corresponding modules in the [Makefile](Makefile). In the\n",
    "case of the `bmx280` there are multiple versions, so here include `bmp280_i2c`.\n",
    "\n",
    "Once done, you can rebuild and flash your application.\n",
    "\n",
    "_Note_: the `bmp280`, `lm75a` and `mpu9x250` include a temperature sensor, can you read\n",
    "all of them? How much do they differ?"
   ]
  },
  {
   "cell_type": "code",
   "execution_count": null,
   "metadata": {},
   "outputs": [],
   "source": [
    "make flash"
   ]
  },
  {
   "cell_type": "markdown",
   "metadata": {},
   "source": [
    "**Optional improvement:** the continuous read is always done every 500ms. It is possible to extend the `mpu start` command with an extra parameter to specify the delay between each read:"
   ]
  },
  {
   "cell_type": "raw",
   "metadata": {},
   "source": [
    "> mpu\n",
    "mpu\n",
    "usage: mpu <start|stop> [delay ms]"
   ]
  },
  {
   "cell_type": "markdown",
   "metadata": {},
   "source": [
    "If unspecified (`argc < 3`) the delay value is set by default to 500ms. If specified (`argc == 3`), the argument (`argv[2]`) can be converted to an int using the `atoi` function. The delay value can be stored in a global static variable (`uint32_t`).\n",
    "\n",
    "The following command should read the mpu9x50 values every 2s:"
   ]
  },
  {
   "cell_type": "raw",
   "metadata": {},
   "source": [
    "> mpu start 2000\n",
    "Accelerometer x: 672 y: 156 z: -232\n",
    "> Accelerometer x: 672 y: 156 z: -236\n",
    "Accelerometer x: 676 y: 160 z: -240\n",
    "mpu stop"
   ]
  }
 ],
 "metadata": {
  "kernelspec": {
   "display_name": "Python 3",
   "language": "python",
   "name": "python3"
  },
  "language_info": {
   "codemirror_mode": {
    "name": "ipython",
    "version": 3
   },
   "file_extension": ".py",
   "mimetype": "text/x-python",
   "name": "python",
   "nbconvert_exporter": "python",
   "pygments_lexer": "ipython3",
   "version": "3.8.6"
  }
 },
 "nbformat": 4,
 "nbformat_minor": 4
}
