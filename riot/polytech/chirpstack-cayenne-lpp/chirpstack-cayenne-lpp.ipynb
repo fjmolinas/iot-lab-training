{
 "cells": [
  {
   "cell_type": "markdown",
   "metadata": {},
   "source": [
    "## Publish LoRaWAN payloads to a myDevices Cayenne web dashboard\n",
    "\n",
    "### Introduction\n",
    "\n",
    "In the [LoRaWAN getting-started Notebook](../getting-started/lorawan-getting-started.ipynb), we learnt how to use LoRa boards with [CampusIoT Chirpstack](https://lns.campusiot.imag.fr). In addition to send/receive messages to/from the ChirpStack backend, it is also possible to configure [integrations](https://www.thethingsnetwork.org/docs/applications/integrations.html) to a LoRaWAN network. One of these integrations is using webhooks, which allows to retrieve and display sensors data in customizable dashboards. This is what is used by a Cayenne application to interact with the ChirpStack backend.\n",
    "\n",
    "- The first step of this Notebook is to configure the integration between a ChirpStack and myDevices Cayenne. This is explained in the next section.\n",
    "- The second step will be to implement the RIOT application. This is explained in the \"Write your RIOT application\" section.\n",
    "\n",
    "### Configure the integration between a ChirpStack application and myDevices Cayenne\n",
    "\n",
    "If you followed the **[LoRaWAN getting-started Notebook](../getting-started/lorawan-getting-started.ipynb)**,\n",
    "the only thing that you have to do is to configure the integration of your ChirpStack application with\n",
    "myDevices Cayenne: this is simple, go to the **INTEGRATIONS** tab, select\n",
    "**CREATE** and the choose the **myDevices.com** integration and the **Cayenne** endpoint.\n",
    "\n",
    "<figure style=\"text-align:center\">\n",
    "    <img src=\"images/chirpstack-integration-mydevices.png\" width=\"640\" align=\"center\"/><br/><br/>\n",
    "    <figcaption><em>Integrations - myDevices</em></figcaption>\n",
    "</figure>\n",
    "\n",
    "Go to the devices **CONFIGURATION** tab and switch the profile to **OTAA_CLASS_A_LPP**:\n",
    "\n",
    "<figure style=\"text-align:center\">\n",
    "    <img src=\"images/chirpstack-profile-lpp.png\" width=\"640\" align=\"center\"/><br/><br/>\n",
    "    <figcaption><em>Integrations - myDevices</em></figcaption>\n",
    "</figure>\n",
    "\n",
    "Now uplink data will be forwarded to a myDevice endpoint.\n",
    "\n",
    "### Register your device in myDevices\n",
    "\n",
    "1. Create an account on [myDevices](https://mydevices.com/)\n",
    "2. Log-in and click on LoRa\n",
    "3. Select **ChirpStack** at the bottom of the left menu bar, click on Cayenne LPP\n",
    "   and fill in your DevEUI.\n",
    "\n",
    "<figure style=\"text-align:center\">\n",
    "    <img src=\"images/mydevices-register-device.png\" width=\"640\" align=\"center\"/><br/><br/>\n",
    "    <figcaption><em>myDevice Register Device</em></figcaption>\n",
    "</figure>\n",
    "\n",
    "### Write your RIOT application\n",
    "\n",
    "myDevices Cayenne requires the devices to encode the messages in a specific payload format called **[Cayenne LPP](https://developers.mydevices.com/cayenne/docs/lora/#lora-cayenne-low-power-payload)**. This format is a binary format designed to reduce the payload size (remember that LoRaWAN has a very low datarate) while remaining quite flexible: the format encodes several channels that contain different kind of sendor data types (temperature, relative humidity, etc).\n",
    "\n",
    "In the same directory as this notebook, you will find the 2 files of a basic RIOT application: `Makefile`, `main.c`. This application already contains code to read sensors, join a LoRaWAN and send a basic payload every 20s.\n",
    "\n",
    "You can double click the files in the JupyterLab browser to open them in new tabs and start editing them.\n",
    "\n",
    "As you can see, the application is already quite complete but the DEVEUI/APPEUI/APPKEY are empty (full of zeros) and the encoding to the Cayenne LPP format is missing in `main.c`. Fortunately, RIOT provides support for [a library for encoding to the Cayenne LPP](https://github.com/aabadie/cayenne-lpp). This is what will be used in this Notebook.\n",
    "\n",
    "1. Change the DEVEUI, APPEUI, APPKEY default values (see C static arrays lines 28 to 30 in main.c). From your device **KEYS(OTAA)**\n",
    "you can easily copy the Application Key as a hexarray (keep MSB representation).\n",
    "\n",
    "For the device id you can use the following snippet to format the hexstring as required:"
   ]
  },
  {
   "cell_type": "code",
   "execution_count": null,
   "metadata": {},
   "outputs": [],
   "source": [
    "deveui = bytearray.fromhex(\"949e3d7a45528de9\")\n",
    "print(', '.join(['{:0=#4x}'.format(x) for x in deveui]))"
   ]
  },
  {
   "cell_type": "markdown",
   "metadata": {},
   "source": [
    "  **Important**: if you don't edit the deveui/appeui/appkey values, you device won't be able to join the network and send messages.\n",
    "\n",
    "2. Add the missing Cayenne LPP header (under `/* TODO: Add the cayenne_lpp header */`):\n",
    "\n",
    "```c\n",
    "#include \"cayenne_lpp.h\"\n",
    "```\n",
    "\n",
    "3. Declare globally Cayenne LPP descriptor:\n",
    "\n",
    "```c\n",
    "static cayenne_lpp_t lpp;\n",
    "```\n",
    "\n",
    "4. In the sender function, prepare the cayenne lpp payload with the temperature measured value:\n",
    "\n",
    "```c\n",
    "cayenne_lpp_add_temperature(&lpp, 0, (float)temperature / 1000);\n",
    "```\n",
    "\n",
    "5. You have to replace the send of the dummy payload with the send of the cayenne lpp payload, e.g:\n",
    "\n",
    "```\n",
    "uint8_t ret = semtech_loramac_send(&loramac, lpp.buffer, lpp.cursor);\n",
    "```\n",
    "\n",
    "instead of\n",
    "\n",
    "```\n",
    "uint8_t ret = semtech_loramac_send(&loramac, (uint8_t *)message, strlen(message));\n",
    "```\n",
    "\n",
    "6. At the end of the while loop, you have to clear the cayenne lpp payload buffer between each send:\n",
    "\n",
    "```c\n",
    "cayenne_lpp_reset(&lpp);\n",
    "```\n",
    "\n",
    "7. You can now build and flash the application:"
   ]
  },
  {
   "cell_type": "code",
   "execution_count": null,
   "metadata": {},
   "outputs": [],
   "source": [
    "!make flash"
   ]
  },
  {
   "cell_type": "markdown",
   "metadata": {},
   "source": [
    "\n",
    "8. Open a terminal (use `File > New > Terminal`):"
   ]
  },
  {
   "cell_type": "code",
   "execution_count": null,
   "metadata": {},
   "outputs": [],
   "source": [
    "make riot/polytech/chirpstackcayenne-lpp term"
   ]
  },
  {
   "cell_type": "markdown",
   "metadata": {},
   "source": [
    "\n",
    "In the terminal, you should see you device join the network with success and start sending payload to ChirpStack.\n",
    "If you check the details of the payload Uplink in your device **DEVICE DATA** tab\n",
    "you should see the decoded temperature data.\n",
    "\n",
    "<figure style=\"text-align:center\">\n",
    "    <img src=\"images/chirpstack-lpp-data.png\" width=\"640\" align=\"center\"/><br/><br/>\n",
    "    <figcaption><em>ChirpStack LPP decoded Data</em></figcaption>\n",
    "</figure>\n",
    "\n",
    "Your myDevices  dashboard should start populating with new sensors values!\n",
    "\n",
    "<figure style=\"text-align:center\">\n",
    "    <img src=\"images/mydevices-dashboard.png\" width=\"640\" align=\"center\"/><br/><br/>\n",
    "    <figcaption><em>myDevice Dashboard Sensor Data</em></figcaption>\n",
    "</figure>\n",
    "\n",
    "### Going further\n",
    "\n",
    "Modify the RIOT application to add the `bmp280` atmospheric pressure sensor values to the Cayenne LPP payload:\n",
    "- You can have a look at the [online documentation of the driver](https://doc.riot-os.org/group__drivers__bmx280.html)\n",
    "- You can have a look at the [test application code](https://github.com/RIOT-OS/RIOT/tree/master/tests/driver_bmx280) which provides driver API usage"
   ]
  }
 ],
 "metadata": {
  "kernelspec": {
   "display_name": "Python 3",
   "language": "python",
   "name": "python3"
  },
  "language_info": {
   "codemirror_mode": {
    "name": "ipython",
    "version": 3
   },
   "file_extension": ".py",
   "mimetype": "text/x-python",
   "name": "python",
   "nbconvert_exporter": "python",
   "pygments_lexer": "ipython3",
   "version": "3.9.5"
  }
 },
 "nbformat": 4,
 "nbformat_minor": 4
}
