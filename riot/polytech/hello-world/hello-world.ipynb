{
 "cells": [
  {
   "cell_type": "markdown",
   "metadata": {},
   "source": [
    "## First RIOT application\n",
    "\n",
    "In this exercise, you will build your first RIOT application and run it.\n",
    "\n",
    "- In a first step, the application will be built for the `native` target and run as a regular application.\n",
    "\n",
    "- In a second step, you will flash a `nucleo-f446re`"
   ]
  },
  {
   "cell_type": "markdown",
   "metadata": {},
   "source": [
    "### Build for native\n",
    "\n",
    "The [Makefile](Makefile) of the RIOT application is the simplest possible:\n",
    "\n",
    "```mk\n",
    "# Name of the application\n",
    "APPLICATION = hello-world\n",
    "\n",
    "# Default target board\n",
    "BOARD ?= native\n",
    "\n",
    "USEMODULE += xtimer\n",
    "\n",
    "# Path to the RIOT base directory\n",
    "RIOTBASE ?= $(CURDIR)/../../RIOT\n",
    "\n",
    "# Include all build system logic for building the application\n",
    "include $(RIOTBASE)/Makefile.include\n",
    "```\n",
    "\n",
    "The [main.c](main.c) file is also very simple and contains standard C code. We wait five seconds and write the message \"Hello from RIOT!\" on the serial port\n",
    "```c\n",
    "#include <stdio.h>\n",
    "#include \"xtimer.h\"\n",
    "\n",
    "int main(void)\n",
    "{\n",
    "    xtimer_sleep(5);\n",
    "    puts(\"Hello from RIOT!\");\n",
    "    return 0;\n",
    "}\n",
    "```\n",
    "\n",
    "Build the application and run it on native is then as simple as running the following command:\n"
   ]
  },
  {
   "cell_type": "code",
   "execution_count": null,
   "metadata": {},
   "outputs": [],
   "source": [
    "!make all term"
   ]
  },
  {
   "cell_type": "markdown",
   "metadata": {},
   "source": [
    "**Important:** once done interrupt the Jupyter kernel by clicking the ◼ button in the menu bar above."
   ]
  },
  {
   "cell_type": "markdown",
   "metadata": {},
   "source": [
    "### Build for a nucleo-f446re\n",
    "\n",
    "Build the firmware for the `nucleo-f446re` target, using the `BOARD` variable:"
   ]
  },
  {
   "cell_type": "code",
   "execution_count": null,
   "metadata": {},
   "outputs": [],
   "source": [
    "!make BOARD=nucleo-f446re"
   ]
  },
  {
   "cell_type": "markdown",
   "metadata": {},
   "source": [
    "### Open a terminal and flash the firmware on the nucleo-f446re\n",
    "\n",
    "1. Open a Jupyter terminal (use `File > New > Terminal`) and run the following command from it."
   ]
  },
  {
   "cell_type": "raw",
   "metadata": {},
   "source": [
    "make BOARD=nucleo-f446re -C riot/polytech/hello-world term"
   ]
  },
  {
   "cell_type": "markdown",
   "metadata": {},
   "source": [
    "2. Now flash the device."
   ]
  },
  {
   "cell_type": "code",
   "execution_count": null,
   "metadata": {},
   "outputs": [],
   "source": [
    "!make BOARD=nucleo-f446re flash"
   ]
  }
 ],
 "metadata": {
  "kernelspec": {
   "display_name": "Python 3 (ipykernel)",
   "language": "python",
   "name": "python3"
  },
  "language_info": {
   "codemirror_mode": {
    "name": "ipython",
    "version": 3
   },
   "file_extension": ".py",
   "mimetype": "text/x-python",
   "name": "python",
   "nbconvert_exporter": "python",
   "pygments_lexer": "ipython3",
   "version": "3.9.5"
  }
 },
 "nbformat": 4,
 "nbformat_minor": 4
}
